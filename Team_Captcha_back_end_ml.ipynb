{
  "nbformat": 4,
  "nbformat_minor": 0,
  "metadata": {
    "colab": {
      "provenance": []
    },
    "kernelspec": {
      "name": "python3",
      "display_name": "Python 3"
    },
    "language_info": {
      "name": "python"
    }
  },
  "cells": [
    {
      "cell_type": "code",
      "execution_count": null,
      "metadata": {
        "id": "VnW97S5Fysz8"
      },
      "outputs": [],
      "source": [
        "import pandas as pd\n",
        "import numpy as np\n",
        "from sklearn.feature_extraction.text import TfidfVectorizer\n",
        "from sklearn.metrics.pairwise import cosine_similarity\n",
        "from sklearn.metrics.pairwise import linear_kernel"
      ]
    },
    {
      "cell_type": "code",
      "source": [
        "df = pd.read_csv('/content/sample_data/courses dataset2.csv')\n",
        "print(df.columns)\n"
      ],
      "metadata": {
        "colab": {
          "base_uri": "https://localhost:8080/"
        },
        "id": "o1suFv-3F7as",
        "outputId": "5b6942cd-01b5-4c33-a54c-2eec376d807f"
      },
      "execution_count": null,
      "outputs": [
        {
          "output_type": "stream",
          "name": "stdout",
          "text": [
            "Index(['name', 'course_title', 'mode', 'price', 'no of votes', 'Rating',\n",
            "       'lectures', 'Hours', 'level', 'instructor_name', 'url'],\n",
            "      dtype='object')\n"
          ]
        }
      ]
    },
    {
      "cell_type": "code",
      "source": [
        "df.head()"
      ],
      "metadata": {
        "id": "CSPVzaRMF7dW",
        "colab": {
          "base_uri": "https://localhost:8080/",
          "height": 206
        },
        "outputId": "c2d4fdb7-33ae-44d4-a6b9-bcf445a0a26d"
      },
      "execution_count": null,
      "outputs": [
        {
          "output_type": "execute_result",
          "data": {
            "text/plain": [
              "      name                course_title  mode   price no of votes Rating  \\\n",
              "0  udacity     front end web developer  paid  77,769       2,004    4.2   \n",
              "1  udacity    full stack wev developer  paid  77,769       1,012    4.4   \n",
              "2  udacity                learn kotlin  paid  77,769       1,005    4.4   \n",
              "3  udacity     become an ios developer  paid  77,769      12,904    4.6   \n",
              "4  udacity  ai programming with python  paid  58,257         678    4.6   \n",
              "\n",
              "   lectures  Hours         level instructor_name  \\\n",
              "0       254   80.0  intermediate  rachel manning   \n",
              "1       260   74.0  intermediate         amy hua   \n",
              "2       240   45.5  intermediate      dan galpin   \n",
              "3       456   58.0  intermediate   jarrod parkes   \n",
              "4       476  120.0  intermediate      ortal arel   \n",
              "\n",
              "                                                 url  \n",
              "0  https://www.udacity.com/course/front-end-web-d...  \n",
              "1  https://www.udacity.com/course/full-stack-web-...  \n",
              "2  https://www.udacity.com/course/android-kotlin-...  \n",
              "3  https://www.udacity.com/course/ios-developer-n...  \n",
              "4  https://www.udacity.com/course/ai-programming-...  "
            ],
            "text/html": [
              "\n",
              "  <div id=\"df-3fed8a97-da99-46c1-a965-b3b80c1cbf95\">\n",
              "    <div class=\"colab-df-container\">\n",
              "      <div>\n",
              "<style scoped>\n",
              "    .dataframe tbody tr th:only-of-type {\n",
              "        vertical-align: middle;\n",
              "    }\n",
              "\n",
              "    .dataframe tbody tr th {\n",
              "        vertical-align: top;\n",
              "    }\n",
              "\n",
              "    .dataframe thead th {\n",
              "        text-align: right;\n",
              "    }\n",
              "</style>\n",
              "<table border=\"1\" class=\"dataframe\">\n",
              "  <thead>\n",
              "    <tr style=\"text-align: right;\">\n",
              "      <th></th>\n",
              "      <th>name</th>\n",
              "      <th>course_title</th>\n",
              "      <th>mode</th>\n",
              "      <th>price</th>\n",
              "      <th>no of votes</th>\n",
              "      <th>Rating</th>\n",
              "      <th>lectures</th>\n",
              "      <th>Hours</th>\n",
              "      <th>level</th>\n",
              "      <th>instructor_name</th>\n",
              "      <th>url</th>\n",
              "    </tr>\n",
              "  </thead>\n",
              "  <tbody>\n",
              "    <tr>\n",
              "      <th>0</th>\n",
              "      <td>udacity</td>\n",
              "      <td>front end web developer</td>\n",
              "      <td>paid</td>\n",
              "      <td>77,769</td>\n",
              "      <td>2,004</td>\n",
              "      <td>4.2</td>\n",
              "      <td>254</td>\n",
              "      <td>80.0</td>\n",
              "      <td>intermediate</td>\n",
              "      <td>rachel manning</td>\n",
              "      <td>https://www.udacity.com/course/front-end-web-d...</td>\n",
              "    </tr>\n",
              "    <tr>\n",
              "      <th>1</th>\n",
              "      <td>udacity</td>\n",
              "      <td>full stack wev developer</td>\n",
              "      <td>paid</td>\n",
              "      <td>77,769</td>\n",
              "      <td>1,012</td>\n",
              "      <td>4.4</td>\n",
              "      <td>260</td>\n",
              "      <td>74.0</td>\n",
              "      <td>intermediate</td>\n",
              "      <td>amy hua</td>\n",
              "      <td>https://www.udacity.com/course/full-stack-web-...</td>\n",
              "    </tr>\n",
              "    <tr>\n",
              "      <th>2</th>\n",
              "      <td>udacity</td>\n",
              "      <td>learn kotlin</td>\n",
              "      <td>paid</td>\n",
              "      <td>77,769</td>\n",
              "      <td>1,005</td>\n",
              "      <td>4.4</td>\n",
              "      <td>240</td>\n",
              "      <td>45.5</td>\n",
              "      <td>intermediate</td>\n",
              "      <td>dan galpin</td>\n",
              "      <td>https://www.udacity.com/course/android-kotlin-...</td>\n",
              "    </tr>\n",
              "    <tr>\n",
              "      <th>3</th>\n",
              "      <td>udacity</td>\n",
              "      <td>become an ios developer</td>\n",
              "      <td>paid</td>\n",
              "      <td>77,769</td>\n",
              "      <td>12,904</td>\n",
              "      <td>4.6</td>\n",
              "      <td>456</td>\n",
              "      <td>58.0</td>\n",
              "      <td>intermediate</td>\n",
              "      <td>jarrod parkes</td>\n",
              "      <td>https://www.udacity.com/course/ios-developer-n...</td>\n",
              "    </tr>\n",
              "    <tr>\n",
              "      <th>4</th>\n",
              "      <td>udacity</td>\n",
              "      <td>ai programming with python</td>\n",
              "      <td>paid</td>\n",
              "      <td>58,257</td>\n",
              "      <td>678</td>\n",
              "      <td>4.6</td>\n",
              "      <td>476</td>\n",
              "      <td>120.0</td>\n",
              "      <td>intermediate</td>\n",
              "      <td>ortal arel</td>\n",
              "      <td>https://www.udacity.com/course/ai-programming-...</td>\n",
              "    </tr>\n",
              "  </tbody>\n",
              "</table>\n",
              "</div>\n",
              "      <button class=\"colab-df-convert\" onclick=\"convertToInteractive('df-3fed8a97-da99-46c1-a965-b3b80c1cbf95')\"\n",
              "              title=\"Convert this dataframe to an interactive table.\"\n",
              "              style=\"display:none;\">\n",
              "        \n",
              "  <svg xmlns=\"http://www.w3.org/2000/svg\" height=\"24px\"viewBox=\"0 0 24 24\"\n",
              "       width=\"24px\">\n",
              "    <path d=\"M0 0h24v24H0V0z\" fill=\"none\"/>\n",
              "    <path d=\"M18.56 5.44l.94 2.06.94-2.06 2.06-.94-2.06-.94-.94-2.06-.94 2.06-2.06.94zm-11 1L8.5 8.5l.94-2.06 2.06-.94-2.06-.94L8.5 2.5l-.94 2.06-2.06.94zm10 10l.94 2.06.94-2.06 2.06-.94-2.06-.94-.94-2.06-.94 2.06-2.06.94z\"/><path d=\"M17.41 7.96l-1.37-1.37c-.4-.4-.92-.59-1.43-.59-.52 0-1.04.2-1.43.59L10.3 9.45l-7.72 7.72c-.78.78-.78 2.05 0 2.83L4 21.41c.39.39.9.59 1.41.59.51 0 1.02-.2 1.41-.59l7.78-7.78 2.81-2.81c.8-.78.8-2.07 0-2.86zM5.41 20L4 18.59l7.72-7.72 1.47 1.35L5.41 20z\"/>\n",
              "  </svg>\n",
              "      </button>\n",
              "      \n",
              "  <style>\n",
              "    .colab-df-container {\n",
              "      display:flex;\n",
              "      flex-wrap:wrap;\n",
              "      gap: 12px;\n",
              "    }\n",
              "\n",
              "    .colab-df-convert {\n",
              "      background-color: #E8F0FE;\n",
              "      border: none;\n",
              "      border-radius: 50%;\n",
              "      cursor: pointer;\n",
              "      display: none;\n",
              "      fill: #1967D2;\n",
              "      height: 32px;\n",
              "      padding: 0 0 0 0;\n",
              "      width: 32px;\n",
              "    }\n",
              "\n",
              "    .colab-df-convert:hover {\n",
              "      background-color: #E2EBFA;\n",
              "      box-shadow: 0px 1px 2px rgba(60, 64, 67, 0.3), 0px 1px 3px 1px rgba(60, 64, 67, 0.15);\n",
              "      fill: #174EA6;\n",
              "    }\n",
              "\n",
              "    [theme=dark] .colab-df-convert {\n",
              "      background-color: #3B4455;\n",
              "      fill: #D2E3FC;\n",
              "    }\n",
              "\n",
              "    [theme=dark] .colab-df-convert:hover {\n",
              "      background-color: #434B5C;\n",
              "      box-shadow: 0px 1px 3px 1px rgba(0, 0, 0, 0.15);\n",
              "      filter: drop-shadow(0px 1px 2px rgba(0, 0, 0, 0.3));\n",
              "      fill: #FFFFFF;\n",
              "    }\n",
              "  </style>\n",
              "\n",
              "      <script>\n",
              "        const buttonEl =\n",
              "          document.querySelector('#df-3fed8a97-da99-46c1-a965-b3b80c1cbf95 button.colab-df-convert');\n",
              "        buttonEl.style.display =\n",
              "          google.colab.kernel.accessAllowed ? 'block' : 'none';\n",
              "\n",
              "        async function convertToInteractive(key) {\n",
              "          const element = document.querySelector('#df-3fed8a97-da99-46c1-a965-b3b80c1cbf95');\n",
              "          const dataTable =\n",
              "            await google.colab.kernel.invokeFunction('convertToInteractive',\n",
              "                                                     [key], {});\n",
              "          if (!dataTable) return;\n",
              "\n",
              "          const docLinkHtml = 'Like what you see? Visit the ' +\n",
              "            '<a target=\"_blank\" href=https://colab.research.google.com/notebooks/data_table.ipynb>data table notebook</a>'\n",
              "            + ' to learn more about interactive tables.';\n",
              "          element.innerHTML = '';\n",
              "          dataTable['output_type'] = 'display_data';\n",
              "          await google.colab.output.renderOutput(dataTable, element);\n",
              "          const docLink = document.createElement('div');\n",
              "          docLink.innerHTML = docLinkHtml;\n",
              "          element.appendChild(docLink);\n",
              "        }\n",
              "      </script>\n",
              "    </div>\n",
              "  </div>\n",
              "  "
            ]
          },
          "metadata": {},
          "execution_count": 9
        }
      ]
    },
    {
      "cell_type": "code",
      "source": [
        "df.columns"
      ],
      "metadata": {
        "id": "XPP1yLUfF7gB",
        "colab": {
          "base_uri": "https://localhost:8080/"
        },
        "outputId": "04c45e66-da7d-4612-bffe-9e400da2e3a6"
      },
      "execution_count": null,
      "outputs": [
        {
          "output_type": "execute_result",
          "data": {
            "text/plain": [
              "Index(['name', 'course_title', 'mode', 'price', 'no of votes', 'Rating',\n",
              "       'lectures', 'Hours', 'level', 'instructor_name', 'url'],\n",
              "      dtype='object')"
            ]
          },
          "metadata": {},
          "execution_count": 10
        }
      ]
    },
    {
      "cell_type": "code",
      "source": [
        "tfidf = TfidfVectorizer(stop_words='english')"
      ],
      "metadata": {
        "id": "kJNEu-8RF7iZ"
      },
      "execution_count": null,
      "outputs": []
    },
    {
      "cell_type": "code",
      "source": [
        "tfidf_matrix = tfidf.fit_transform(df['course_title'])"
      ],
      "metadata": {
        "id": "JjjM3E77F7lH"
      },
      "execution_count": null,
      "outputs": []
    },
    {
      "cell_type": "code",
      "source": [
        "print(tfidf_matrix)"
      ],
      "metadata": {
        "id": "TE1EHnGwF7nq",
        "colab": {
          "base_uri": "https://localhost:8080/"
        },
        "outputId": "42deb304-cbd8-4a75-8368-e43214c6d569"
      },
      "execution_count": null,
      "outputs": [
        {
          "output_type": "stream",
          "name": "stdout",
          "text": [
            "  (0, 23)\t0.505188610051354\n",
            "  (0, 79)\t0.505188610051354\n",
            "  (0, 30)\t0.699692029787936\n",
            "  (1, 81)\t0.708960193135622\n",
            "  (1, 70)\t0.5590102882518356\n",
            "  (1, 23)\t0.4299801648654287\n",
            "  (2, 47)\t0.6431926606300915\n",
            "  (2, 48)\t0.7657043824555164\n",
            "  (3, 44)\t0.8311083644718489\n",
            "  (3, 23)\t0.5561104984667423\n",
            "  (4, 63)\t0.6554983561308578\n",
            "  (4, 62)\t0.5506194575593294\n",
            "  (4, 4)\t0.5168559935483124\n",
            "  (5, 74)\t0.5773502691896257\n",
            "  (5, 41)\t0.5773502691896257\n",
            "  (5, 9)\t0.5773502691896257\n",
            "  (6, 67)\t0.837364969447076\n",
            "  (6, 18)\t0.5466442242838548\n",
            "  (7, 10)\t0.7100789884925254\n",
            "  (7, 66)\t0.5300086568979163\n",
            "  (7, 18)\t0.46355005524182463\n",
            "  (8, 5)\t0.5753204979281065\n",
            "  (8, 72)\t0.6849043117943674\n",
            "  (8, 18)\t0.4471156543325671\n",
            "  (9, 49)\t0.5981561475248088\n",
            "  :\t:\n",
            "  (49, 22)\t0.4143184570693672\n",
            "  (49, 78)\t0.3735075154088562\n",
            "  (49, 79)\t0.3186859387411133\n",
            "  (50, 34)\t0.5653691903125226\n",
            "  (50, 75)\t0.491820874590975\n",
            "  (50, 22)\t0.491820874590975\n",
            "  (50, 78)\t0.4433758374996313\n",
            "  (51, 59)\t0.5341202957212303\n",
            "  (51, 27)\t0.5341202957212303\n",
            "  (51, 52)\t0.5341202957212303\n",
            "  (51, 21)\t0.3796663391663742\n",
            "  (52, 39)\t0.4429383047743226\n",
            "  (52, 34)\t0.40148226842868284\n",
            "  (52, 17)\t0.40148226842868284\n",
            "  (52, 38)\t0.40148226842868284\n",
            "  (52, 75)\t0.34925383939335936\n",
            "  (52, 21)\t0.31485185265829696\n",
            "  (52, 78)\t0.31485185265829696\n",
            "  (53, 15)\t0.5250849568972344\n",
            "  (53, 11)\t0.5824578628193221\n",
            "  (53, 69)\t0.6205067494235477\n",
            "  (54, 76)\t0.5155568128048567\n",
            "  (54, 3)\t0.4839433569856063\n",
            "  (54, 11)\t0.4839433569856063\n",
            "  (54, 69)\t0.5155568128048567\n"
          ]
        }
      ]
    },
    {
      "cell_type": "code",
      "source": [
        "from sklearn.metrics.pairwise import cosine_similarity\n",
        "cosine_similarities = cosine_similarity(tfidf_matrix, tfidf_matrix)"
      ],
      "metadata": {
        "id": "tO4yAu32F7qA"
      },
      "execution_count": null,
      "outputs": []
    },
    {
      "cell_type": "code",
      "source": [
        "print(cosine_similarities)"
      ],
      "metadata": {
        "id": "SO8MN1FfF7sa",
        "colab": {
          "base_uri": "https://localhost:8080/"
        },
        "outputId": "0a8977e9-3e60-472c-8ca9-e1bc74603731"
      },
      "execution_count": null,
      "outputs": [
        {
          "output_type": "stream",
          "name": "stdout",
          "text": [
            "[[1.         0.21722108 0.         ... 0.         0.         0.        ]\n",
            " [0.21722108 1.         0.         ... 0.         0.         0.        ]\n",
            " [0.         0.         1.         ... 0.         0.         0.        ]\n",
            " ...\n",
            " [0.         0.         0.         ... 1.         0.         0.        ]\n",
            " [0.         0.         0.         ... 0.         1.         0.6017831 ]\n",
            " [0.         0.         0.         ... 0.         0.6017831  1.        ]]\n"
          ]
        }
      ]
    },
    {
      "cell_type": "code",
      "source": [
        "indices = pd.Series(df.index,index=df['course_title']).drop_duplicates()\n",
        "print(indices['front end web developer'])"
      ],
      "metadata": {
        "id": "HzucVIjmF7vI",
        "colab": {
          "base_uri": "https://localhost:8080/"
        },
        "outputId": "9f22ff33-8507-4fdd-85af-05d4ddd46cf9"
      },
      "execution_count": null,
      "outputs": [
        {
          "output_type": "stream",
          "name": "stdout",
          "text": [
            "0\n"
          ]
        }
      ]
    },
    {
      "cell_type": "code",
      "source": [
        "print(indices)"
      ],
      "metadata": {
        "id": "xZbA5gOOF7yt",
        "colab": {
          "base_uri": "https://localhost:8080/"
        },
        "outputId": "c18abfbc-6d40-49bb-e40a-f86c48f68fc5"
      },
      "execution_count": null,
      "outputs": [
        {
          "output_type": "stream",
          "name": "stdout",
          "text": [
            "course_title\n",
            "front end web developer                                      0\n",
            "full stack wev developer                                     1\n",
            "learn kotlin                                                 2\n",
            "become an ios developer                                      3\n",
            "ai programming with python                                   4\n",
            "artifical intelligence for trading                           5\n",
            "become a data scientist                                      6\n",
            "data science with aws                                        7\n",
            "data structure and algorithms                                8\n",
            "Deep Learning                                                9\n",
            "UX Designer                                                 10\n",
            "SQL                                                         11\n",
            "Machine Learning DevOps Engineer                            12\n",
            "React                                                       13\n",
            "AI for Healthcare                                           14\n",
            "Data Product Manager                                        15\n",
            "Java Programming                                            16\n",
            "Android Kotlin Developer                                    17\n",
            "web design for everybody                                    18\n",
            "intrduction to web development                              19\n",
            "meta andriod developer                                      20\n",
            "andriod app dvelopment specialization                       21\n",
            "machine learning specialization                             22\n",
            "ibm machine learning                                        23\n",
            "ibm data science                                            24\n",
            "introduction to data science specialization                 25\n",
            "oops java programming and dsa beyond specialization         26\n",
            "meta back end developer professional certificate            27\n",
            "algorithms part 01                                          28\n",
            "introduction to frond end development                       29\n",
            "build a full website using wordpress                        30\n",
            "Responsive Website Development and design specialization    31\n",
            "The full stack development                                  32\n",
            "google ux design                                            33\n",
            "ui/ux design                                                34\n",
            "full stack web developer(HTML,CSS,JS)                       35\n",
            "the web developer bootcamp 2023                             36\n",
            "ios and swift: the complete ios app development             37\n",
            "the complete andriod 12 and kotlin course                   38\n",
            "statistics for ai and ml developers                         39\n",
            "ai and ml in the field of mathematics                       40\n",
            "the data science course 2023                                41\n",
            "complete machine learning and data science                  42\n",
            "dsa in java                                                 43\n",
            "java dsa and algorithms masterclass                         44\n",
            "100 days of code:web development bootcamp 2023              45\n",
            "the ultimate full stack web development code                46\n",
            "the complete web developer course 3.0                       47\n",
            "ultimate web designer and web developer course              48\n",
            "complete web and mobile designer(ui/ux)                     49\n",
            "figma ui/ux designer                                        50\n",
            "master digital prodcut design                               51\n",
            "ui/ux design hybrid figma to html css                       52\n",
            "the complete sql bootcamp                                   53\n",
            "the ultimate sql bootcamp 2023                              54\n",
            "dtype: int64\n"
          ]
        }
      ]
    },
    {
      "cell_type": "code",
      "source": [
        "print(indices['learn kotlin'])"
      ],
      "metadata": {
        "id": "F2D7TwetF71G",
        "colab": {
          "base_uri": "https://localhost:8080/"
        },
        "outputId": "553462da-cad1-42d0-9567-76b0b65bd39d"
      },
      "execution_count": null,
      "outputs": [
        {
          "output_type": "stream",
          "name": "stdout",
          "text": [
            "2\n"
          ]
        }
      ]
    },
    {
      "cell_type": "code",
      "source": [
        "def get_recom(title,cosine_sim=cosine_similarities):\n",
        "    idx = indices[title]\n",
        "    print(idx)\n",
        "    #Get the pairwise similarity score of all movies with that movie\n",
        "    # cosime_sim = 3*3 cosine_sim[0] = 1*3\n",
        "    sim_scores = list(enumerate(cosine_sim[idx]))\n",
        "    \n",
        "    #Start the movie based the similarity score\n",
        "    sim_scores = sorted(sim_scores,key=lambda x:x[1],reverse = True)\n",
        "    \n",
        "    \n",
        "    #Get\n",
        "    sim_scores = sim_scores[1:6]\n",
        "    \n",
        "    course_indices = [i[0] for i in sim_scores]\n",
        "    df.sort_values(by=['no of votes', 'Rating', 'price'], inplace=True)\n",
        "    \n",
        "    \n",
        "    \n",
        "    return df['url'].iloc[course_indices]"
      ],
      "metadata": {
        "id": "blsL0EvlF73k"
      },
      "execution_count": null,
      "outputs": []
    },
    {
      "cell_type": "code",
      "source": [
        "try:\n",
        "    print(get_recom(\"machine learning specialization\", cosine_similarities))\n",
        "except Exception as e:\n",
        "    print(e)"
      ],
      "metadata": {
        "id": "Gkle3ZbAF759",
        "colab": {
          "base_uri": "https://localhost:8080/"
        },
        "outputId": "d5807eef-4d0e-4e6b-aec3-e5553e562fcc"
      },
      "execution_count": null,
      "outputs": [
        {
          "output_type": "stream",
          "name": "stdout",
          "text": [
            "22\n",
            "0     https://www.udacity.com/course/front-end-web-d...\n",
            "24    https://www.coursera.org/professional-certific...\n",
            "28      https://www.coursera.org/learn/algorithms-part1\n",
            "15    https://www.udacity.com//course/data-product-m...\n",
            "27    https://in.coursera.org/professional-certifica...\n",
            "Name: url, dtype: object\n"
          ]
        }
      ]
    },
    {
      "cell_type": "code",
      "source": [],
      "metadata": {
        "id": "u5G3Ci8EF78D"
      },
      "execution_count": null,
      "outputs": []
    },
    {
      "cell_type": "code",
      "source": [],
      "metadata": {
        "id": "vBMWPIycF7-t"
      },
      "execution_count": null,
      "outputs": []
    }
  ]
}